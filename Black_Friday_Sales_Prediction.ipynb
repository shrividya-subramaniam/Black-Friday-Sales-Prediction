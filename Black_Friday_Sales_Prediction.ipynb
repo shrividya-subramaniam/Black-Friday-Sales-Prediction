{
 "metadata": {
  "language_info": {
   "codemirror_mode": {
    "name": "ipython",
    "version": 3
   },
   "file_extension": ".py",
   "mimetype": "text/x-python",
   "name": "python",
   "nbconvert_exporter": "python",
   "pygments_lexer": "ipython3",
   "version": "3.8.5"
  },
  "orig_nbformat": 2,
  "kernelspec": {
   "name": "python3",
   "display_name": "Python 3.8.5 64-bit ('base': conda)"
  },
  "interpreter": {
   "hash": "b26c25461d5fad406ddb92b02c3fdc9d2144e8b65eac93a0f31d88397ea2865e"
  }
 },
 "nbformat": 4,
 "nbformat_minor": 2,
 "cells": [
  {
   "cell_type": "markdown",
   "source": [
    "# Black Friday Sales Prediction"
   ],
   "metadata": {}
  },
  {
   "cell_type": "markdown",
   "source": [
    "## Importing the libraries"
   ],
   "metadata": {}
  },
  {
   "cell_type": "code",
   "execution_count": 1,
   "source": [
    "import numpy as np\r\n",
    "import matplotlib.pyplot as plt\r\n",
    "import pandas as pd\r\n",
    "import seaborn as sns"
   ],
   "outputs": [],
   "metadata": {}
  },
  {
   "cell_type": "code",
   "execution_count": 2,
   "source": [
    "import warnings\r\n",
    "warnings.filterwarnings('ignore')"
   ],
   "outputs": [],
   "metadata": {}
  },
  {
   "cell_type": "code",
   "execution_count": 3,
   "source": [
    "from scipy.stats import norm\r\n",
    "from scipy.stats import probplot\r\n"
   ],
   "outputs": [],
   "metadata": {}
  },
  {
   "cell_type": "code",
   "execution_count": 4,
   "source": [
    "# For Encoding\r\n",
    "from sklearn.preprocessing import LabelEncoder"
   ],
   "outputs": [],
   "metadata": {}
  },
  {
   "cell_type": "code",
   "execution_count": 5,
   "source": [
    "# For Feature Importance\r\n",
    "from sklearn.datasets import make_classification\r\n",
    "from sklearn.feature_selection import SelectKBest\r\n",
    "from sklearn.feature_selection import f_regression"
   ],
   "outputs": [],
   "metadata": {}
  },
  {
   "cell_type": "code",
   "execution_count": 6,
   "source": [
    "# For Cross Validation\r\n",
    "from sklearn.model_selection import KFold, StratifiedKFold\r\n",
    "from sklearn.metrics import mean_squared_error\r\n",
    "from sklearn.metrics import r2_score"
   ],
   "outputs": [],
   "metadata": {}
  },
  {
   "cell_type": "code",
   "execution_count": 7,
   "source": [
    "# For Machine Learning Models\r\n",
    "from sklearn import model_selection\r\n",
    "from xgboost import XGBRegressor\r\n",
    "from lightgbm import LGBMRegressor\r\n",
    "from catboost import CatBoostRegressor"
   ],
   "outputs": [],
   "metadata": {}
  },
  {
   "cell_type": "markdown",
   "source": [
    "## Importing the datasets"
   ],
   "metadata": {}
  },
  {
   "cell_type": "code",
   "execution_count": 8,
   "source": [
    "train = pd.read_csv(\"train.csv\")\r\n",
    "test = pd.read_csv(\"test.csv\")"
   ],
   "outputs": [],
   "metadata": {}
  },
  {
   "cell_type": "markdown",
   "source": [
    "## Data Exploration"
   ],
   "metadata": {}
  },
  {
   "cell_type": "code",
   "execution_count": 9,
   "source": [
    "train.info()"
   ],
   "outputs": [
    {
     "output_type": "stream",
     "name": "stdout",
     "text": [
      "<class 'pandas.core.frame.DataFrame'>\n",
      "RangeIndex: 550068 entries, 0 to 550067\n",
      "Data columns (total 12 columns):\n",
      " #   Column                      Non-Null Count   Dtype  \n",
      "---  ------                      --------------   -----  \n",
      " 0   User_ID                     550068 non-null  int64  \n",
      " 1   Product_ID                  550068 non-null  object \n",
      " 2   Gender                      550068 non-null  object \n",
      " 3   Age                         550068 non-null  object \n",
      " 4   Occupation                  550068 non-null  int64  \n",
      " 5   City_Category               550068 non-null  object \n",
      " 6   Stay_In_Current_City_Years  550068 non-null  object \n",
      " 7   Marital_Status              550068 non-null  int64  \n",
      " 8   Product_Category_1          550068 non-null  int64  \n",
      " 9   Product_Category_2          376430 non-null  float64\n",
      " 10  Product_Category_3          166821 non-null  float64\n",
      " 11  Purchase                    550068 non-null  int64  \n",
      "dtypes: float64(2), int64(5), object(5)\n",
      "memory usage: 50.4+ MB\n"
     ]
    }
   ],
   "metadata": {}
  },
  {
   "cell_type": "code",
   "execution_count": 10,
   "source": [
    "test.info()"
   ],
   "outputs": [
    {
     "output_type": "stream",
     "name": "stdout",
     "text": [
      "<class 'pandas.core.frame.DataFrame'>\n",
      "RangeIndex: 233599 entries, 0 to 233598\n",
      "Data columns (total 11 columns):\n",
      " #   Column                      Non-Null Count   Dtype  \n",
      "---  ------                      --------------   -----  \n",
      " 0   User_ID                     233599 non-null  int64  \n",
      " 1   Product_ID                  233599 non-null  object \n",
      " 2   Gender                      233599 non-null  object \n",
      " 3   Age                         233599 non-null  object \n",
      " 4   Occupation                  233599 non-null  int64  \n",
      " 5   City_Category               233599 non-null  object \n",
      " 6   Stay_In_Current_City_Years  233599 non-null  object \n",
      " 7   Marital_Status              233599 non-null  int64  \n",
      " 8   Product_Category_1          233599 non-null  int64  \n",
      " 9   Product_Category_2          161255 non-null  float64\n",
      " 10  Product_Category_3          71037 non-null   float64\n",
      "dtypes: float64(2), int64(4), object(5)\n",
      "memory usage: 19.6+ MB\n"
     ]
    }
   ],
   "metadata": {}
  },
  {
   "cell_type": "markdown",
   "source": [
    "## Data Visualization"
   ],
   "metadata": {}
  },
  {
   "cell_type": "code",
   "execution_count": 11,
   "source": [
    "categorical = ['Gender','Age','Occupation','City_Category','Stay_In_Current_City_Years','Marital_Status','Product_Category_1','Product_Category_2','Product_Category_3']\r\n",
    "train_numerical = train[['Purchase']]\r\n"
   ],
   "outputs": [],
   "metadata": {}
  },
  {
   "cell_type": "markdown",
   "source": [
    "### 1. Bar Charts for Categorical Variables "
   ],
   "metadata": {}
  },
  {
   "cell_type": "code",
   "execution_count": 12,
   "source": [
    "fig, ax = plt.subplots(2, 5, figsize=(20, 10))\r\n",
    "for variable, subplot in zip(categorical, ax.flatten()):\r\n",
    "    sns.countplot(train[variable], ax=subplot)\r\n",
    "    for label in subplot.get_xticklabels():\r\n",
    "        label.set_rotation(90)"
   ],
   "outputs": [
    {
     "output_type": "display_data",
     "data": {
      "text/plain": [
       "<Figure size 1440x720 with 10 Axes>"
      ],
      "image/png": "[encoded data removed]"
     },
     "metadata": {
      "needs_background": "light"
     }
    }
   ],
   "metadata": {}
  },
  {
   "cell_type": "markdown",
   "source": [
    "### 2. Histograms for Numerical Variables"
   ],
   "metadata": {}
  },
  {
   "cell_type": "code",
   "execution_count": 13,
   "source": [
    "train_numerical.hist()\r\n",
    "plt.show()"
   ],
   "outputs": [
    {
     "output_type": "display_data",
     "data": {
      "text/plain": [
       "<Figure size 432x288 with 1 Axes>"
      ],
      "image/png": "[encoded data removed]"
     },
     "metadata": {
      "needs_background": "light"
     }
    }
   ],
   "metadata": {}
  },
  {
   "cell_type": "markdown",
   "source": [
    "### 3. Box Plots To Check For Outliers"
   ],
   "metadata": {}
  },
  {
   "cell_type": "code",
   "execution_count": 14,
   "source": [
    "train_numerical.plot(kind='box')\r\n",
    "plt.show()"
   ],
   "outputs": [
    {
     "output_type": "display_data",
     "data": {
      "text/plain": [
       "<Figure size 432x288 with 1 Axes>"
      ],
      "image/png": "[encoded data removed]"
     },
     "metadata": {
      "needs_background": "light"
     }
    }
   ],
   "metadata": {}
  },
  {
   "cell_type": "markdown",
   "source": [
    "## Checking Missing Values"
   ],
   "metadata": {}
  },
  {
   "cell_type": "code",
   "execution_count": 15,
   "source": [
    "train.isnull().sum()"
   ],
   "outputs": [
    {
     "output_type": "execute_result",
     "data": {
      "text/plain": [
       "User_ID                            0\n",
       "Product_ID                         0\n",
       "Gender                             0\n",
       "Age                                0\n",
       "Occupation                         0\n",
       "City_Category                      0\n",
       "Stay_In_Current_City_Years         0\n",
       "Marital_Status                     0\n",
       "Product_Category_1                 0\n",
       "Product_Category_2            173638\n",
       "Product_Category_3            383247\n",
       "Purchase                           0\n",
       "dtype: int64"
      ]
     },
     "metadata": {},
     "execution_count": 15
    }
   ],
   "metadata": {}
  },
  {
   "cell_type": "markdown",
   "source": [
    "'Product_Category_2' and 'Product_Category_3' columns in train dataset contain 173638 and 383247 missing values respectively."
   ],
   "metadata": {}
  },
  {
   "cell_type": "code",
   "execution_count": 16,
   "source": [
    "test.isnull().sum()"
   ],
   "outputs": [
    {
     "output_type": "execute_result",
     "data": {
      "text/plain": [
       "User_ID                            0\n",
       "Product_ID                         0\n",
       "Gender                             0\n",
       "Age                                0\n",
       "Occupation                         0\n",
       "City_Category                      0\n",
       "Stay_In_Current_City_Years         0\n",
       "Marital_Status                     0\n",
       "Product_Category_1                 0\n",
       "Product_Category_2             72344\n",
       "Product_Category_3            162562\n",
       "dtype: int64"
      ]
     },
     "metadata": {},
     "execution_count": 16
    }
   ],
   "metadata": {}
  },
  {
   "cell_type": "markdown",
   "source": [
    "'Product_Category_2' and 'Product_Category_3' columns in test dataset contain 72344 and 162562 missing values respectively."
   ],
   "metadata": {}
  },
  {
   "cell_type": "markdown",
   "source": [
    "### Checking for duplicate rows"
   ],
   "metadata": {}
  },
  {
   "cell_type": "code",
   "execution_count": 17,
   "source": [
    "# Checking for duplicate rows\r\n",
    "train[train.duplicated(keep = 'last')]"
   ],
   "outputs": [
    {
     "output_type": "execute_result",
     "data": {
      "text/plain": [
       "Empty DataFrame\n",
       "Columns: [User_ID, Product_ID, Gender, Age, Occupation, City_Category, Stay_In_Current_City_Years, Marital_Status, Product_Category_1, Product_Category_2, Product_Category_3, Purchase]\n",
       "Index: []"
      ],
      "text/html": [
       "<div>\n",
       "<style scoped>\n",
       "    .dataframe tbody tr th:only-of-type {\n",
       "        vertical-align: middle;\n",
       "    }\n",
       "\n",
       "    .dataframe tbody tr th {\n",
       "        vertical-align: top;\n",
       "    }\n",
       "\n",
       "    .dataframe thead th {\n",
       "        text-align: right;\n",
       "    }\n",
       "</style>\n",
       "<table border=\"1\" class=\"dataframe\">\n",
       "  <thead>\n",
       "    <tr style=\"text-align: right;\">\n",
       "      <th></th>\n",
       "      <th>User_ID</th>\n",
       "      <th>Product_ID</th>\n",
       "      <th>Gender</th>\n",
       "      <th>Age</th>\n",
       "      <th>Occupation</th>\n",
       "      <th>City_Category</th>\n",
       "      <th>Stay_In_Current_City_Years</th>\n",
       "      <th>Marital_Status</th>\n",
       "      <th>Product_Category_1</th>\n",
       "      <th>Product_Category_2</th>\n",
       "      <th>Product_Category_3</th>\n",
       "      <th>Purchase</th>\n",
       "    </tr>\n",
       "  </thead>\n",
       "  <tbody>\n",
       "  </tbody>\n",
       "</table>\n",
       "</div>"
      ]
     },
     "metadata": {},
     "execution_count": 17
    }
   ],
   "metadata": {}
  },
  {
   "cell_type": "code",
   "execution_count": 18,
   "source": [
    "test[test.duplicated(keep = 'last')]"
   ],
   "outputs": [
    {
     "output_type": "execute_result",
     "data": {
      "text/plain": [
       "Empty DataFrame\n",
       "Columns: [User_ID, Product_ID, Gender, Age, Occupation, City_Category, Stay_In_Current_City_Years, Marital_Status, Product_Category_1, Product_Category_2, Product_Category_3]\n",
       "Index: []"
      ],
      "text/html": [
       "<div>\n",
       "<style scoped>\n",
       "    .dataframe tbody tr th:only-of-type {\n",
       "        vertical-align: middle;\n",
       "    }\n",
       "\n",
       "    .dataframe tbody tr th {\n",
       "        vertical-align: top;\n",
       "    }\n",
       "\n",
       "    .dataframe thead th {\n",
       "        text-align: right;\n",
       "    }\n",
       "</style>\n",
       "<table border=\"1\" class=\"dataframe\">\n",
       "  <thead>\n",
       "    <tr style=\"text-align: right;\">\n",
       "      <th></th>\n",
       "      <th>User_ID</th>\n",
       "      <th>Product_ID</th>\n",
       "      <th>Gender</th>\n",
       "      <th>Age</th>\n",
       "      <th>Occupation</th>\n",
       "      <th>City_Category</th>\n",
       "      <th>Stay_In_Current_City_Years</th>\n",
       "      <th>Marital_Status</th>\n",
       "      <th>Product_Category_1</th>\n",
       "      <th>Product_Category_2</th>\n",
       "      <th>Product_Category_3</th>\n",
       "    </tr>\n",
       "  </thead>\n",
       "  <tbody>\n",
       "  </tbody>\n",
       "</table>\n",
       "</div>"
      ]
     },
     "metadata": {},
     "execution_count": 18
    }
   ],
   "metadata": {}
  },
  {
   "cell_type": "markdown",
   "source": [
    "No duplicated rows in both the train and test datasets"
   ],
   "metadata": {}
  },
  {
   "cell_type": "markdown",
   "source": [
    "## Data Preprocessing"
   ],
   "metadata": {}
  },
  {
   "cell_type": "markdown",
   "source": [
    "### Converting 'Product_ID' into integer dtype variable\n"
   ],
   "metadata": {}
  },
  {
   "cell_type": "code",
   "execution_count": 19,
   "source": [
    "train['Product_ID'] = train['Product_ID'].str[1:]\r\n",
    "test['Product_ID'] = test['Product_ID'].str[1:]\r\n",
    "\r\n",
    "train['Product_ID'] = train['Product_ID'].astype(np.int64)\r\n",
    "test['Product_ID'] = test['Product_ID'].astype(np.int64)\r\n"
   ],
   "outputs": [],
   "metadata": {}
  },
  {
   "cell_type": "markdown",
   "source": [
    "## Missing Value Imputation"
   ],
   "metadata": {}
  },
  {
   "cell_type": "markdown",
   "source": [
    "Missing values are present in the columns 'Product_Category_1' and 'Product_Category_2'. These missing values occur when a product is present only in 1 or 2 categories. "
   ],
   "metadata": {}
  },
  {
   "cell_type": "code",
   "execution_count": 20,
   "source": [
    "train = train.fillna(0)\r\n",
    "test = test.fillna(0)"
   ],
   "outputs": [],
   "metadata": {}
  },
  {
   "cell_type": "code",
   "execution_count": 21,
   "source": [
    "train.describe()"
   ],
   "outputs": [
    {
     "output_type": "execute_result",
     "data": {
      "text/plain": [
       "            User_ID     Product_ID     Occupation  Marital_Status  \\\n",
       "count  5.500680e+05  550068.000000  550068.000000   550068.000000   \n",
       "mean   1.003029e+06  174744.814667       8.076707        0.409653   \n",
       "std    1.727592e+03  102746.516956       6.522660        0.491770   \n",
       "min    1.000001e+06     142.000000       0.000000        0.000000   \n",
       "25%    1.001516e+06   97142.000000       2.000000        0.000000   \n",
       "50%    1.003077e+06  169742.000000       7.000000        0.000000   \n",
       "75%    1.004478e+06  259142.000000      14.000000        1.000000   \n",
       "max    1.006040e+06  375436.000000      20.000000        1.000000   \n",
       "\n",
       "       Product_Category_1  Product_Category_2  Product_Category_3  \\\n",
       "count       550068.000000       550068.000000       550068.000000   \n",
       "mean             5.404270            6.735436            3.841941   \n",
       "std              3.936211            6.215492            6.250712   \n",
       "min              1.000000            0.000000            0.000000   \n",
       "25%              1.000000            0.000000            0.000000   \n",
       "50%              5.000000            5.000000            0.000000   \n",
       "75%              8.000000           14.000000            8.000000   \n",
       "max             20.000000           18.000000           18.000000   \n",
       "\n",
       "            Purchase  \n",
       "count  550068.000000  \n",
       "mean     9263.968713  \n",
       "std      5023.065394  \n",
       "min        12.000000  \n",
       "25%      5823.000000  \n",
       "50%      8047.000000  \n",
       "75%     12054.000000  \n",
       "max     23961.000000  "
      ],
      "text/html": [
       "<div>\n",
       "<style scoped>\n",
       "    .dataframe tbody tr th:only-of-type {\n",
       "        vertical-align: middle;\n",
       "    }\n",
       "\n",
       "    .dataframe tbody tr th {\n",
       "        vertical-align: top;\n",
       "    }\n",
       "\n",
       "    .dataframe thead th {\n",
       "        text-align: right;\n",
       "    }\n",
       "</style>\n",
       "<table border=\"1\" class=\"dataframe\">\n",
       "  <thead>\n",
       "    <tr style=\"text-align: right;\">\n",
       "      <th></th>\n",
       "      <th>User_ID</th>\n",
       "      <th>Product_ID</th>\n",
       "      <th>Occupation</th>\n",
       "      <th>Marital_Status</th>\n",
       "      <th>Product_Category_1</th>\n",
       "      <th>Product_Category_2</th>\n",
       "      <th>Product_Category_3</th>\n",
       "      <th>Purchase</th>\n",
       "    </tr>\n",
       "  </thead>\n",
       "  <tbody>\n",
       "    <tr>\n",
       "      <th>count</th>\n",
       "      <td>5.500680e+05</td>\n",
       "      <td>550068.000000</td>\n",
       "      <td>550068.000000</td>\n",
       "      <td>550068.000000</td>\n",
       "      <td>550068.000000</td>\n",
       "      <td>550068.000000</td>\n",
       "      <td>550068.000000</td>\n",
       "      <td>550068.000000</td>\n",
       "    </tr>\n",
       "    <tr>\n",
       "      <th>mean</th>\n",
       "      <td>1.003029e+06</td>\n",
       "      <td>174744.814667</td>\n",
       "      <td>8.076707</td>\n",
       "      <td>0.409653</td>\n",
       "      <td>5.404270</td>\n",
       "      <td>6.735436</td>\n",
       "      <td>3.841941</td>\n",
       "      <td>9263.968713</td>\n",
       "    </tr>\n",
       "    <tr>\n",
       "      <th>std</th>\n",
       "      <td>1.727592e+03</td>\n",
       "      <td>102746.516956</td>\n",
       "      <td>6.522660</td>\n",
       "      <td>0.491770</td>\n",
       "      <td>3.936211</td>\n",
       "      <td>6.215492</td>\n",
       "      <td>6.250712</td>\n",
       "      <td>5023.065394</td>\n",
       "    </tr>\n",
       "    <tr>\n",
       "      <th>min</th>\n",
       "      <td>1.000001e+06</td>\n",
       "      <td>142.000000</td>\n",
       "      <td>0.000000</td>\n",
       "      <td>0.000000</td>\n",
       "      <td>1.000000</td>\n",
       "      <td>0.000000</td>\n",
       "      <td>0.000000</td>\n",
       "      <td>12.000000</td>\n",
       "    </tr>\n",
       "    <tr>\n",
       "      <th>25%</th>\n",
       "      <td>1.001516e+06</td>\n",
       "      <td>97142.000000</td>\n",
       "      <td>2.000000</td>\n",
       "      <td>0.000000</td>\n",
       "      <td>1.000000</td>\n",
       "      <td>0.000000</td>\n",
       "      <td>0.000000</td>\n",
       "      <td>5823.000000</td>\n",
       "    </tr>\n",
       "    <tr>\n",
       "      <th>50%</th>\n",
       "      <td>1.003077e+06</td>\n",
       "      <td>169742.000000</td>\n",
       "      <td>7.000000</td>\n",
       "      <td>0.000000</td>\n",
       "      <td>5.000000</td>\n",
       "      <td>5.000000</td>\n",
       "      <td>0.000000</td>\n",
       "      <td>8047.000000</td>\n",
       "    </tr>\n",
       "    <tr>\n",
       "      <th>75%</th>\n",
       "      <td>1.004478e+06</td>\n",
       "      <td>259142.000000</td>\n",
       "      <td>14.000000</td>\n",
       "      <td>1.000000</td>\n",
       "      <td>8.000000</td>\n",
       "      <td>14.000000</td>\n",
       "      <td>8.000000</td>\n",
       "      <td>12054.000000</td>\n",
       "    </tr>\n",
       "    <tr>\n",
       "      <th>max</th>\n",
       "      <td>1.006040e+06</td>\n",
       "      <td>375436.000000</td>\n",
       "      <td>20.000000</td>\n",
       "      <td>1.000000</td>\n",
       "      <td>20.000000</td>\n",
       "      <td>18.000000</td>\n",
       "      <td>18.000000</td>\n",
       "      <td>23961.000000</td>\n",
       "    </tr>\n",
       "  </tbody>\n",
       "</table>\n",
       "</div>"
      ]
     },
     "metadata": {},
     "execution_count": 21
    }
   ],
   "metadata": {}
  },
  {
   "cell_type": "code",
   "execution_count": 22,
   "source": [
    "test.describe()"
   ],
   "outputs": [
    {
     "output_type": "execute_result",
     "data": {
      "text/plain": [
       "            User_ID     Product_ID     Occupation  Marital_Status  \\\n",
       "count  2.335990e+05  233599.000000  233599.000000   233599.000000   \n",
       "mean   1.003029e+06  173148.445661       8.085407        0.410070   \n",
       "std    1.726505e+03  101682.144110       6.521146        0.491847   \n",
       "min    1.000001e+06     142.000000       0.000000        0.000000   \n",
       "25%    1.001527e+06   96742.000000       2.000000        0.000000   \n",
       "50%    1.003070e+06  165742.000000       7.000000        0.000000   \n",
       "75%    1.004477e+06  256642.000000      14.000000        1.000000   \n",
       "max    1.006040e+06  370642.000000      20.000000        1.000000   \n",
       "\n",
       "       Product_Category_1  Product_Category_2  Product_Category_3  \n",
       "count       233599.000000       233599.000000       233599.000000  \n",
       "mean             5.276542            6.799237            3.852756  \n",
       "std              3.736380            6.217668            6.256634  \n",
       "min              1.000000            0.000000            0.000000  \n",
       "25%              1.000000            0.000000            0.000000  \n",
       "50%              5.000000            5.000000            0.000000  \n",
       "75%              8.000000           14.000000            8.000000  \n",
       "max             18.000000           18.000000           18.000000  "
      ],
      "text/html": [
       "<div>\n",
       "<style scoped>\n",
       "    .dataframe tbody tr th:only-of-type {\n",
       "        vertical-align: middle;\n",
       "    }\n",
       "\n",
       "    .dataframe tbody tr th {\n",
       "        vertical-align: top;\n",
       "    }\n",
       "\n",
       "    .dataframe thead th {\n",
       "        text-align: right;\n",
       "    }\n",
       "</style>\n",
       "<table border=\"1\" class=\"dataframe\">\n",
       "  <thead>\n",
       "    <tr style=\"text-align: right;\">\n",
       "      <th></th>\n",
       "      <th>User_ID</th>\n",
       "      <th>Product_ID</th>\n",
       "      <th>Occupation</th>\n",
       "      <th>Marital_Status</th>\n",
       "      <th>Product_Category_1</th>\n",
       "      <th>Product_Category_2</th>\n",
       "      <th>Product_Category_3</th>\n",
       "    </tr>\n",
       "  </thead>\n",
       "  <tbody>\n",
       "    <tr>\n",
       "      <th>count</th>\n",
       "      <td>2.335990e+05</td>\n",
       "      <td>233599.000000</td>\n",
       "      <td>233599.000000</td>\n",
       "      <td>233599.000000</td>\n",
       "      <td>233599.000000</td>\n",
       "      <td>233599.000000</td>\n",
       "      <td>233599.000000</td>\n",
       "    </tr>\n",
       "    <tr>\n",
       "      <th>mean</th>\n",
       "      <td>1.003029e+06</td>\n",
       "      <td>173148.445661</td>\n",
       "      <td>8.085407</td>\n",
       "      <td>0.410070</td>\n",
       "      <td>5.276542</td>\n",
       "      <td>6.799237</td>\n",
       "      <td>3.852756</td>\n",
       "    </tr>\n",
       "    <tr>\n",
       "      <th>std</th>\n",
       "      <td>1.726505e+03</td>\n",
       "      <td>101682.144110</td>\n",
       "      <td>6.521146</td>\n",
       "      <td>0.491847</td>\n",
       "      <td>3.736380</td>\n",
       "      <td>6.217668</td>\n",
       "      <td>6.256634</td>\n",
       "    </tr>\n",
       "    <tr>\n",
       "      <th>min</th>\n",
       "      <td>1.000001e+06</td>\n",
       "      <td>142.000000</td>\n",
       "      <td>0.000000</td>\n",
       "      <td>0.000000</td>\n",
       "      <td>1.000000</td>\n",
       "      <td>0.000000</td>\n",
       "      <td>0.000000</td>\n",
       "    </tr>\n",
       "    <tr>\n",
       "      <th>25%</th>\n",
       "      <td>1.001527e+06</td>\n",
       "      <td>96742.000000</td>\n",
       "      <td>2.000000</td>\n",
       "      <td>0.000000</td>\n",
       "      <td>1.000000</td>\n",
       "      <td>0.000000</td>\n",
       "      <td>0.000000</td>\n",
       "    </tr>\n",
       "    <tr>\n",
       "      <th>50%</th>\n",
       "      <td>1.003070e+06</td>\n",
       "      <td>165742.000000</td>\n",
       "      <td>7.000000</td>\n",
       "      <td>0.000000</td>\n",
       "      <td>5.000000</td>\n",
       "      <td>5.000000</td>\n",
       "      <td>0.000000</td>\n",
       "    </tr>\n",
       "    <tr>\n",
       "      <th>75%</th>\n",
       "      <td>1.004477e+06</td>\n",
       "      <td>256642.000000</td>\n",
       "      <td>14.000000</td>\n",
       "      <td>1.000000</td>\n",
       "      <td>8.000000</td>\n",
       "      <td>14.000000</td>\n",
       "      <td>8.000000</td>\n",
       "    </tr>\n",
       "    <tr>\n",
       "      <th>max</th>\n",
       "      <td>1.006040e+06</td>\n",
       "      <td>370642.000000</td>\n",
       "      <td>20.000000</td>\n",
       "      <td>1.000000</td>\n",
       "      <td>18.000000</td>\n",
       "      <td>18.000000</td>\n",
       "      <td>18.000000</td>\n",
       "    </tr>\n",
       "  </tbody>\n",
       "</table>\n",
       "</div>"
      ]
     },
     "metadata": {},
     "execution_count": 22
    }
   ],
   "metadata": {}
  },
  {
   "cell_type": "code",
   "execution_count": 23,
   "source": [
    "# Removing values of 'Product_Category_1 in the train dataset that are not present in the test dataset\r\n",
    "train = train[train['Product_Category_1'] <= 18]"
   ],
   "outputs": [],
   "metadata": {}
  },
  {
   "cell_type": "markdown",
   "source": [
    "## Feature Generation"
   ],
   "metadata": {}
  },
  {
   "cell_type": "code",
   "execution_count": 24,
   "source": [
    "# Creating additional features in the train dataset and mapping them into the test dataset\r\n",
    "def transform_test(base_col, feat_col):\r\n",
    "   \r\n",
    "    #Create dictionary of feature values from train data\r\n",
    "    di = pd.Series(train[feat_col].values, index=train[base_col].values).to_dict()\r\n",
    "        \r\n",
    "    return test[base_col].map(di).astype(float)"
   ],
   "outputs": [],
   "metadata": {}
  },
  {
   "cell_type": "code",
   "execution_count": 25,
   "source": [
    "train['Product_Category_1_count'] = train.groupby('Product_Category_1')['Product_Category_1'].transform('count')\r\n",
    "test['Product_Category_1_count'] = transform_test('Product_Category_1','Product_Category_1_count' )\r\n",
    "\r\n",
    "train['Product_Category_2_count'] = train.groupby('Product_Category_2')['Product_Category_2'].transform('count')\r\n",
    "test['Product_Category_2_count'] = transform_test('Product_Category_2','Product_Category_2_count' )\r\n",
    "\r\n",
    "train['Product_Category_3_count'] = train.groupby('Product_Category_3')['Product_Category_3'].transform('count')\r\n",
    "test['Product_Category_3_count'] = transform_test('Product_Category_3','Product_Category_3_count' )"
   ],
   "outputs": [],
   "metadata": {}
  },
  {
   "cell_type": "code",
   "execution_count": 26,
   "source": [
    "train['UserID_Mean_Purchase'] = train.groupby('User_ID')['Purchase'].transform('mean')\r\n",
    "test['UserID_Mean_Purchase'] = transform_test('User_ID', 'UserID_Mean_Purchase')\r\n",
    "\r\n",
    "train['ProductID_Mean_Purchase'] = train.groupby('Product_ID')['Purchase'].transform('mean')\r\n",
    "test['ProductID_Mean_Purchase'] = transform_test('Product_ID', 'ProductID_Mean_Purchase')\r\n",
    "\r\n",
    "train['UserID_Median_Purchase'] = train.groupby('User_ID')['Purchase'].transform('median')\r\n",
    "test['UserID_Median_Purchase'] = transform_test('User_ID', 'UserID_Median_Purchase')\r\n",
    "\r\n",
    "train['ProductID_Median_Purchase'] = train.groupby('Product_ID')['Purchase'].transform('median')\r\n",
    "test['ProductID_Median_Purchase'] = transform_test('Product_ID', 'ProductID_Median_Purchase')\r\n",
    "\r\n"
   ],
   "outputs": [],
   "metadata": {}
  },
  {
   "cell_type": "code",
   "execution_count": 27,
   "source": [
    "train['UserID_Mean_Purchase'] = train.groupby('User_ID')['Purchase'].transform('mean')\r\n",
    "test['UserID_Mean_Purchase'] = transform_test('User_ID', 'UserID_Mean_Purchase')\r\n",
    "\r\n",
    "train['ProductID_Mean_Purchase'] = train.groupby('Product_ID')['Purchase'].transform('mean')\r\n",
    "test['ProductID_Mean_Purchase'] = transform_test('Product_ID', 'ProductID_Mean_Purchase')\r\n",
    "\r\n",
    "train['UserID_Median_Purchase'] = train.groupby('User_ID')['Purchase'].transform('median')\r\n",
    "test['UserID_Median_Purchase'] = transform_test('User_ID', 'UserID_Median_Purchase')\r\n",
    "\r\n",
    "train['ProductID_Median_Purchase'] = train.groupby('Product_ID')['Purchase'].transform('median')\r\n",
    "test['ProductID_Median_Purchase'] = transform_test('Product_ID', 'ProductID_Median_Purchase')"
   ],
   "outputs": [],
   "metadata": {}
  },
  {
   "cell_type": "markdown",
   "source": [
    "## Encoding categorical variables"
   ],
   "metadata": {}
  },
  {
   "cell_type": "code",
   "execution_count": 28,
   "source": [
    "for col in ['Occupation','Marital_Status','Product_Category_1','Product_Category_2','Product_Category_3']:\r\n",
    "    train[col] = train[col].astype(str)\r\n",
    "    test[col] = test[col].astype(str)"
   ],
   "outputs": [],
   "metadata": {}
  },
  {
   "cell_type": "code",
   "execution_count": 29,
   "source": [
    "# Encoding column 'Stay_In_Current_City_Years' with label encoding since the variable contains values with an order. \r\n",
    "le = LabelEncoder()\r\n",
    "train['Stay_In_Current_City_Years'] = le.fit_transform(train['Stay_In_Current_City_Years'])\r\n",
    "test['Stay_In_Current_City_Years'] = le.fit_transform(test['Stay_In_Current_City_Years'])"
   ],
   "outputs": [],
   "metadata": {}
  },
  {
   "cell_type": "markdown",
   "source": [
    "Binary variables such as 'Gender' and 'Marital_Status' are encoded using onehot encoding. "
   ],
   "metadata": {}
  },
  {
   "cell_type": "code",
   "execution_count": 30,
   "source": [
    "# Encoding binary columns with onehot encoding\r\n",
    "train = pd.get_dummies(train,columns = ['Gender','Marital_Status'], drop_first=True)\r\n",
    "test = pd.get_dummies(test,columns = ['Gender','Marital_Status'],drop_first=True)"
   ],
   "outputs": [],
   "metadata": {}
  },
  {
   "cell_type": "markdown",
   "source": [
    "Tree-based models and ensemble models cannot handle variables with high cardinality that are one-hot encoded. Label encoding cannot be used as it introduces ordinality among the values. Hence, the Variables 'Age', 'Occupation','City_Category','Product_Category_1','Product_Category_2' and 'Product_Category_3' are encoded using frequency encoding. "
   ],
   "metadata": {}
  },
  {
   "cell_type": "code",
   "execution_count": 31,
   "source": [
    "## Frequency encoding \r\n",
    "\r\n",
    "# Creating a list of categorical columns to iterate over\r\n",
    "cat_cols = ['Age','Occupation','City_Category','Product_Category_1','Product_Category_2','Product_Category_3']\r\n",
    "\r\n",
    "def freq_encode(data):\r\n",
    "    fq = data.groupby(col).size()/len(data)  \r\n",
    "# mapping values to dataframe\r\n",
    "    data.loc[:, \"{}_freq_encoded\".format(col)] = data[col].map(fq) \r\n",
    "# drop original column.\r\n",
    "    data.drop([col], axis = 1,inplace = True)\r\n",
    "    return data\r\n",
    "\r\n",
    "# Creating a for loop to iterate through each column in the data\r\n",
    "for col in cat_cols:\r\n",
    "    freq_encode(train)\r\n",
    "    freq_encode(test)"
   ],
   "outputs": [],
   "metadata": {}
  },
  {
   "cell_type": "markdown",
   "source": [
    "## Outlier Treatment"
   ],
   "metadata": {}
  },
  {
   "cell_type": "markdown",
   "source": [
    "The values that are higher the 3rd quartile are outliers and therefore, removed from the dataset. "
   ],
   "metadata": {}
  },
  {
   "cell_type": "code",
   "execution_count": 32,
   "source": [
    "q1 = np.percentile(train['Purchase'],25)\r\n",
    "q3 = np.percentile(train['Purchase'],75)\r\n",
    "iqr = q3-q1\r\n",
    "upper = q3+1.5*iqr\r\n",
    "lower = q1-1.5*iqr\r\n",
    "lower, upper"
   ],
   "outputs": [
    {
     "output_type": "execute_result",
     "data": {
      "text/plain": [
       "(-3440.5, 21379.5)"
      ]
     },
     "metadata": {},
     "execution_count": 32
    }
   ],
   "metadata": {}
  },
  {
   "cell_type": "code",
   "execution_count": 33,
   "source": [
    "train_iqr = train[(train['Purchase']<upper) & (train['Purchase']>lower)]\r\n",
    "train_iqr.shape"
   ],
   "outputs": [
    {
     "output_type": "execute_result",
     "data": {
      "text/plain": [
       "(543210, 19)"
      ]
     },
     "metadata": {},
     "execution_count": 33
    }
   ],
   "metadata": {}
  },
  {
   "cell_type": "code",
   "execution_count": 34,
   "source": [
    "train_iqr['Purchase'].plot(kind='box')\r\n",
    "plt.show()"
   ],
   "outputs": [
    {
     "output_type": "display_data",
     "data": {
      "text/plain": [
       "<Figure size 432x288 with 1 Axes>"
      ],
      "image/png": "[encoded data removed]"
     },
     "metadata": {
      "needs_background": "light"
     }
    }
   ],
   "metadata": {}
  },
  {
   "cell_type": "markdown",
   "source": [
    "## Splitting the Train dataset into X and y"
   ],
   "metadata": {}
  },
  {
   "cell_type": "code",
   "execution_count": 35,
   "source": [
    "X= train_iqr.drop(columns = ['Purchase'], axis=1)\r\n",
    "y= train_iqr['Purchase']"
   ],
   "outputs": [],
   "metadata": {}
  },
  {
   "cell_type": "markdown",
   "source": [
    "## Feature Selection"
   ],
   "metadata": {}
  },
  {
   "cell_type": "markdown",
   "source": [
    "### 1. Feature Selection with Anova Fscore"
   ],
   "metadata": {}
  },
  {
   "cell_type": "code",
   "execution_count": 37,
   "source": [
    "# Defining feature selection \r\n",
    "selector = SelectKBest(f_regression, k='all')\r\n",
    "\r\n",
    "# Applying transformation to the training set\r\n",
    "X_new = selector.fit_transform(X, y)  \r\n",
    "\r\n",
    "# Getting names of the selected features\r\n",
    "mask = selector.get_support()     \r\n",
    "\r\n",
    "# Scores for selected features\r\n",
    "print(selector.scores_)     \r\n",
    "\r\n",
    "# Getting a list of selected features\r\n",
    "new_features = X.columns[mask]\r\n",
    "print(new_features)   \r\n",
    "\r\n",
    "X = X[new_features]\r\n",
    "test = test[new_features]\r\n"
   ],
   "outputs": [
    {
     "output_type": "stream",
     "name": "stdout",
     "text": [
      "[9.98921529e+00 2.95529589e+03 1.69025785e+01 6.99089850e+02\n",
      " 2.46109395e+04 6.10645857e+04 6.65299239e+04 1.30822838e+06\n",
      " 5.63703120e+04 1.20563170e+06 2.00818122e+03 9.32471197e-01\n",
      " 1.51592526e+00 2.96674387e+00 2.25097574e+01 6.99089850e+02\n",
      " 2.46109395e+04 6.10645857e+04]\n",
      "Index(['User_ID', 'Product_ID', 'Stay_In_Current_City_Years',\n",
      "       'Product_Category_1_count', 'Product_Category_2_count',\n",
      "       'Product_Category_3_count', 'UserID_Mean_Purchase',\n",
      "       'ProductID_Mean_Purchase', 'UserID_Median_Purchase',\n",
      "       'ProductID_Median_Purchase', 'Gender_M', 'Marital_Status_1',\n",
      "       'Age_freq_encoded', 'Occupation_freq_encoded',\n",
      "       'City_Category_freq_encoded', 'Product_Category_1_freq_encoded',\n",
      "       'Product_Category_2_freq_encoded', 'Product_Category_3_freq_encoded'],\n",
      "      dtype='object')\n"
     ]
    }
   ],
   "metadata": {}
  },
  {
   "cell_type": "markdown",
   "source": [
    "## Building the Machine Learning Models and Stratified K-Fold Cross Validation"
   ],
   "metadata": {}
  },
  {
   "cell_type": "code",
   "execution_count": 38,
   "source": [
    "# Implementing cross validation\r\n",
    "def kfold_cv(X, y, algorithm, params,n_jobs=-1):\r\n",
    "    kfold = KFold(n_splits=5, random_state=1, shuffle = True)\r\n",
    " \r\n",
    "    for train_index , test_index in kfold.split(X,y):\r\n",
    "        X_train, X_test = X.iloc[train_index], X.iloc[test_index]\r\n",
    "        y_train, y_test = y.iloc[train_index], y.iloc[test_index]\r\n",
    "        model = algorithm(**params) \r\n",
    "        model.fit(X_train,y_train, verbose = 400)\r\n",
    "        pred = model.predict(X_test)\r\n",
    "\r\n",
    "        score = mean_squared_error(y_test, pred,squared = False)\r\n",
    "        r2 = r2_score(y_test, pred)\r\n",
    "        print(f\"RMSE: {score}\")\r\n",
    "        print(f\"R-squared: {r2}\")\r\n",
    "    return model\r\n",
    "    return mean(score)\r\n",
    "    print(mean(score))"
   ],
   "outputs": [],
   "metadata": {}
  },
  {
   "cell_type": "code",
   "execution_count": 39,
   "source": [
    "xgbr_params = {'eta':0.1,'max_depth':10,'min_child_weight': 7}\r\n",
    "xgbr_model = kfold_cv(X, y, XGBRegressor, xgbr_params)"
   ],
   "outputs": [
    {
     "output_type": "stream",
     "name": "stdout",
     "text": [
      "RMSE: 2440.8577528468277\n",
      "R-squared: 0.7516195807654685\n",
      "RMSE: 2439.5933553214786\n",
      "R-squared: 0.75192021156923\n",
      "RMSE: 2453.8750904335225\n",
      "R-squared: 0.7479938970445711\n",
      "RMSE: 2452.810012560442\n",
      "R-squared: 0.7490448766999095\n",
      "RMSE: 2443.1752262858513\n",
      "R-squared: 0.750532740473522\n"
     ]
    }
   ],
   "metadata": {}
  },
  {
   "cell_type": "code",
   "execution_count": 40,
   "source": [
    "lgbm_params = {'learning_rate': 0.15,'max_depth': 10,'num_leaves':70}\r\n",
    "lgbm_model = kfold_cv(X, y, LGBMRegressor, lgbm_params)"
   ],
   "outputs": [
    {
     "output_type": "stream",
     "name": "stdout",
     "text": [
      "RMSE: 2456.491204116848\n",
      "R-squared: 0.7484276877280533\n",
      "RMSE: 2454.5521999448047\n",
      "R-squared: 0.7488685846879253\n",
      "RMSE: 2467.1243533890492\n",
      "R-squared: 0.7452652259534718\n",
      "RMSE: 2466.6687208659846\n",
      "R-squared: 0.7462010044264302\n",
      "RMSE: 2456.605593953249\n",
      "R-squared: 0.7477825113319676\n"
     ]
    }
   ],
   "metadata": {}
  },
  {
   "cell_type": "code",
   "execution_count": 41,
   "source": [
    "catb_params = {'learning_rate': 0.12,'depth': 8}\r\n",
    "catb_model = kfold_cv(X,y,CatBoostRegressor,catb_params)"
   ],
   "outputs": [
    {
     "output_type": "stream",
     "name": "stdout",
     "text": [
      "0:\tlearn: 4490.2196253\ttotal: 222ms\tremaining: 3m 41s\n",
      "400:\tlearn: 2407.6781222\ttotal: 21.5s\tremaining: 32.1s\n",
      "800:\tlearn: 2344.9821197\ttotal: 41.9s\tremaining: 10.4s\n",
      "999:\tlearn: 2319.5778715\ttotal: 51.5s\tremaining: 0us\n",
      "RMSE: 2434.149546318176\n",
      "R-squared: 0.7529829519474662\n",
      "0:\tlearn: 4491.2196729\ttotal: 83.3ms\tremaining: 1m 23s\n",
      "400:\tlearn: 2404.5229897\ttotal: 20s\tremaining: 29.9s\n",
      "800:\tlearn: 2344.1893861\ttotal: 38.8s\tremaining: 9.65s\n",
      "999:\tlearn: 2319.0704616\ttotal: 48s\tremaining: 0us\n",
      "RMSE: 2432.524063936854\n",
      "R-squared: 0.7533558667038204\n",
      "0:\tlearn: 4492.7445444\ttotal: 55ms\tremaining: 55s\n",
      "400:\tlearn: 2404.2128191\ttotal: 19.2s\tremaining: 28.7s\n",
      "800:\tlearn: 2341.1291303\ttotal: 38.1s\tremaining: 9.47s\n",
      "999:\tlearn: 2316.6097089\ttotal: 48.3s\tremaining: 0us\n",
      "RMSE: 2445.311489941662\n",
      "R-squared: 0.7497497434876093\n",
      "0:\tlearn: 4489.2347176\ttotal: 66.1ms\tremaining: 1m 6s\n",
      "400:\tlearn: 2404.6685111\ttotal: 19.3s\tremaining: 28.8s\n",
      "800:\tlearn: 2342.9702699\ttotal: 38.1s\tremaining: 9.46s\n",
      "999:\tlearn: 2317.4284966\ttotal: 47.5s\tremaining: 0us\n",
      "RMSE: 2444.2887786872893\n",
      "R-squared: 0.7507855192515047\n",
      "0:\tlearn: 4491.5930690\ttotal: 59.6ms\tremaining: 59.6s\n",
      "400:\tlearn: 2406.7416128\ttotal: 19.2s\tremaining: 28.7s\n",
      "800:\tlearn: 2343.5245975\ttotal: 38s\tremaining: 9.44s\n",
      "999:\tlearn: 2318.5519584\ttotal: 47.3s\tremaining: 0us\n",
      "RMSE: 2435.990615043331\n",
      "R-squared: 0.7519977929390452\n"
     ]
    }
   ],
   "metadata": {}
  },
  {
   "cell_type": "markdown",
   "source": [
    "## Predicting the Test Results"
   ],
   "metadata": {}
  },
  {
   "cell_type": "code",
   "execution_count": 42,
   "source": [
    "# As the XGBoost and CatBoost models are more accurate due to similar RMSE values, the values for 'Purchase' in test dataset are predicted using these models. Their averages are taken as the final predicted values. \r\n",
    "pred_xgbr = xgbr_model.predict(test)\r\n",
    "pred_catb = catb_model.predict(test)\r\n",
    "y_pred = (pred_xgbr + pred_catb)/2"
   ],
   "outputs": [],
   "metadata": {}
  },
  {
   "cell_type": "markdown",
   "source": [
    "## Adding Predicted Values to the Submission File"
   ],
   "metadata": {}
  },
  {
   "cell_type": "code",
   "execution_count": 43,
   "source": [
    "submission = pd.read_csv('sample_submission.csv')\r\n",
    "submission['Purchase'] = pred_catb\r\n",
    "submission.to_csv('sample_submission.csv', index=False)"
   ],
   "outputs": [],
   "metadata": {}
  }
 ]
}
